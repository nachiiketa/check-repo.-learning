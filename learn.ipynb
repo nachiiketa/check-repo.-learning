{
  "nbformat": 4,
  "nbformat_minor": 0,
  "metadata": {
    "colab": {
      "provenance": []
    },
    "kernelspec": {
      "name": "python3",
      "display_name": "Python 3"
    },
    "language_info": {
      "name": "python"
    }
  },
  "cells": [
    {
      "cell_type": "markdown",
      "source": [
        "# learn\n",
        "\n"
      ],
      "metadata": {
        "id": "QeY4t_hNIQ8M"
      }
    },
    {
      "cell_type": "markdown",
      "source": [
        "1. what is the ...\n",
        "   - this is the way of answer\n",
        "\n",
        "2. second ques...\n",
        "   - this is answer\n",
        "\n",
        "   "
      ],
      "metadata": {
        "id": "uRrzkQ5RIvqZ"
      }
    },
    {
      "cell_type": "markdown",
      "source": [],
      "metadata": {
        "id": "6vy9yyD8ItPK"
      }
    },
    {
      "cell_type": "code",
      "execution_count": 2,
      "metadata": {
        "colab": {
          "base_uri": "https://localhost:8080/",
          "height": 54
        },
        "id": "8EYSktfEIAXV",
        "outputId": "eb69d905-d335-4ec1-be24-73b6a9e28e10"
      },
      "outputs": [
        {
          "output_type": "execute_result",
          "data": {
            "text/plain": [
              "'\\nanswer 1 and use triple quotes for multiple linee\\nokay \\nthis is the reason\\n\\n'"
            ],
            "application/vnd.google.colaboratory.intrinsic+json": {
              "type": "string"
            }
          },
          "metadata": {},
          "execution_count": 2
        }
      ],
      "source": [
        "# question 1 - use hastag for one line\n",
        "'''\n",
        "answer 1 and use triple quotes for multiple linee\n",
        "okay\n",
        "this is the reason\n",
        "\n",
        "'''"
      ]
    }
  ]
}